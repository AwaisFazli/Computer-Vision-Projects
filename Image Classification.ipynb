{
 "cells": [
  {
   "cell_type": "code",
   "execution_count": 16,
   "id": "699f4894",
   "metadata": {},
   "outputs": [],
   "source": [
    "import os\n",
    "\n",
    "from keras import layers, models\n",
    "from keras.preprocessing.image import ImageDataGenerator\n",
    "import cv2\n",
    "import numpy as np"
   ]
  },
  {
   "cell_type": "code",
   "execution_count": 12,
   "id": "7512af9c",
   "metadata": {},
   "outputs": [],
   "source": [
    "model = models.Sequential()\n",
    "model.add(layers.Conv2D(32, (3, 3), activation='relu',input_shape=(150, 150, 3)))\n",
    "model.add(layers.MaxPooling2D((2, 2)))\n",
    "model.add(layers.Conv2D(64, (3, 3), activation='relu'))\n",
    "model.add(layers.MaxPooling2D((2, 2)))\n",
    "model.add(layers.Conv2D(128, (3, 3), activation='relu'))\n",
    "model.add(layers.MaxPooling2D((2, 2)))\n",
    "model.add(layers.Conv2D(128, (3, 3), activation='relu'))\n",
    "model.add(layers.MaxPooling2D((2, 2)))\n",
    "model.add(layers.Flatten())\n",
    "model.add(layers.Dense(512, activation='relu'))\n",
    "model.add(layers.Dense(5, activation='softmax'))"
   ]
  },
  {
   "cell_type": "code",
   "execution_count": 13,
   "id": "2474e6df",
   "metadata": {},
   "outputs": [],
   "source": [
    "from keras import optimizers\n",
    "model.compile(loss='categorical_crossentropy',optimizer='adam',metrics=['acc'])"
   ]
  },
  {
   "cell_type": "code",
   "execution_count": 8,
   "id": "a845a373",
   "metadata": {},
   "outputs": [
    {
     "name": "stdout",
     "output_type": "stream",
     "text": [
      "Found 3998 images belonging to 5 classes.\n"
     ]
    }
   ],
   "source": [
    "train_dir = os.path.join('/flowers', 'train')\n",
    "train_datagen = ImageDataGenerator(rescale=1./255)\n",
    "train_generator = train_datagen.flow_from_directory(train_dir,target_size=(150, 150),class_mode='categorical')"
   ]
  },
  {
   "cell_type": "code",
   "execution_count": 9,
   "id": "1cf25e98",
   "metadata": {},
   "outputs": [
    {
     "name": "stdout",
     "output_type": "stream",
     "text": [
      "Found 297 images belonging to 5 classes.\n"
     ]
    }
   ],
   "source": [
    "validation_dir = os.path.join('/flowers', 'test')\n",
    "validation_datagen = ImageDataGenerator(rescale=1./255)\n",
    "validation_generator = validation_datagen.flow_from_directory(validation_dir,target_size=(150, 150),class_mode='categorical')"
   ]
  },
  {
   "cell_type": "code",
   "execution_count": 14,
   "id": "cc8e09e1",
   "metadata": {},
   "outputs": [
    {
     "name": "stderr",
     "output_type": "stream",
     "text": [
      "<ipython-input-14-49ebdeb37ead>:1: UserWarning: `Model.fit_generator` is deprecated and will be removed in a future version. Please use `Model.fit`, which supports generators.\n",
      "  history = model.fit_generator(train_generator,epochs=20,validation_data=validation_generator)\n"
     ]
    },
    {
     "name": "stdout",
     "output_type": "stream",
     "text": [
      "Epoch 1/20\n",
      "125/125 [==============================] - 101s 783ms/step - loss: 1.2994 - acc: 0.4240 - val_loss: 1.0809 - val_acc: 0.5589\n",
      "Epoch 2/20\n",
      "125/125 [==============================] - 94s 752ms/step - loss: 1.0183 - acc: 0.5900 - val_loss: 0.9165 - val_acc: 0.6532\n",
      "Epoch 3/20\n",
      "125/125 [==============================] - 89s 712ms/step - loss: 0.8580 - acc: 0.6626 - val_loss: 0.8314 - val_acc: 0.6835\n",
      "Epoch 4/20\n",
      "125/125 [==============================] - 87s 694ms/step - loss: 0.7314 - acc: 0.7189 - val_loss: 0.8164 - val_acc: 0.6936\n",
      "Epoch 5/20\n",
      "125/125 [==============================] - 88s 701ms/step - loss: 0.6678 - acc: 0.7479 - val_loss: 0.9076 - val_acc: 0.6835\n",
      "Epoch 6/20\n",
      "125/125 [==============================] - 87s 693ms/step - loss: 0.5867 - acc: 0.7824 - val_loss: 0.8617 - val_acc: 0.6970\n",
      "Epoch 7/20\n",
      "125/125 [==============================] - 88s 705ms/step - loss: 0.4614 - acc: 0.8292 - val_loss: 0.9878 - val_acc: 0.6869\n",
      "Epoch 8/20\n",
      "125/125 [==============================] - 87s 693ms/step - loss: 0.3399 - acc: 0.8739 - val_loss: 0.9959 - val_acc: 0.6768\n",
      "Epoch 9/20\n",
      "125/125 [==============================] - 88s 706ms/step - loss: 0.2264 - acc: 0.9220 - val_loss: 1.0840 - val_acc: 0.7104\n",
      "Epoch 10/20\n",
      "125/125 [==============================] - 87s 699ms/step - loss: 0.1620 - acc: 0.9480 - val_loss: 1.5854 - val_acc: 0.6700\n",
      "Epoch 11/20\n",
      "125/125 [==============================] - 87s 692ms/step - loss: 0.1225 - acc: 0.9575 - val_loss: 1.6678 - val_acc: 0.6801\n",
      "Epoch 12/20\n",
      "125/125 [==============================] - 87s 700ms/step - loss: 0.0749 - acc: 0.9760 - val_loss: 1.6785 - val_acc: 0.6700\n",
      "Epoch 13/20\n",
      "125/125 [==============================] - 90s 720ms/step - loss: 0.0579 - acc: 0.9847 - val_loss: 1.7721 - val_acc: 0.6599\n",
      "Epoch 14/20\n",
      "125/125 [==============================] - 93s 748ms/step - loss: 0.0537 - acc: 0.9867 - val_loss: 1.7926 - val_acc: 0.6633\n",
      "Epoch 15/20\n",
      "125/125 [==============================] - 90s 721ms/step - loss: 0.0379 - acc: 0.9897 - val_loss: 1.8100 - val_acc: 0.7104\n",
      "Epoch 16/20\n",
      "125/125 [==============================] - 86s 688ms/step - loss: 0.0687 - acc: 0.9795 - val_loss: 1.7947 - val_acc: 0.6902\n",
      "Epoch 17/20\n",
      "125/125 [==============================] - 87s 693ms/step - loss: 0.0611 - acc: 0.9810 - val_loss: 1.8348 - val_acc: 0.6970\n",
      "Epoch 18/20\n",
      "125/125 [==============================] - 86s 689ms/step - loss: 0.0283 - acc: 0.9932 - val_loss: 2.0457 - val_acc: 0.6869\n",
      "Epoch 19/20\n",
      "125/125 [==============================] - 89s 712ms/step - loss: 0.0534 - acc: 0.9822 - val_loss: 2.3856 - val_acc: 0.6431\n",
      "Epoch 20/20\n",
      "125/125 [==============================] - 89s 710ms/step - loss: 0.0400 - acc: 0.9885 - val_loss: 1.8668 - val_acc: 0.7003\n"
     ]
    }
   ],
   "source": [
    "history = model.fit_generator(train_generator,epochs=20,validation_data=validation_generator)"
   ]
  },
  {
   "cell_type": "code",
   "execution_count": 15,
   "id": "4f514475",
   "metadata": {},
   "outputs": [
    {
     "data": {
      "image/png": "[encoded data removed]",
      "text/plain": [
       "<Figure size 432x288 with 1 Axes>"
      ]
     },
     "metadata": {
      "needs_background": "light"
     },
     "output_type": "display_data"
    },
    {
     "data": {
      "image/png": "[encoded data removed]",
      "text/plain": [
       "<Figure size 432x288 with 1 Axes>"
      ]
     },
     "metadata": {
      "needs_background": "light"
     },
     "output_type": "display_data"
    }
   ],
   "source": [
    "import matplotlib.pyplot as plt\n",
    "acc = history.history['acc']\n",
    "val_acc = history.history['val_acc']\n",
    "loss = history.history['loss']\n",
    "val_loss = history.history['val_loss']\n",
    "epochs = range(1, len(acc) + 1)\n",
    "plt.plot(epochs, acc, 'bo', label='Training acc')\n",
    "plt.plot(epochs, val_acc, 'b', label='Validation acc')\n",
    "plt.title('Training and validation accuracy')\n",
    "plt.legend()\n",
    "plt.figure()\n",
    "plt.plot(epochs, loss, 'bo', label='Training loss')\n",
    "plt.plot(epochs, val_loss, 'b', label='Validation loss')\n",
    "plt.title('Training and validation loss')\n",
    "plt.legend()\n",
    "plt.show()"
   ]
  },
  {
   "cell_type": "code",
   "execution_count": 24,
   "id": "1e108cc8",
   "metadata": {},
   "outputs": [],
   "source": [
    "a=cv2.imread('rose.jpg')\n",
    "a=cv2.resize(a,(150,150))/250\n",
    "a=np.expand_dims(a,axis=0)"
   ]
  },
  {
   "cell_type": "code",
   "execution_count": 27,
   "id": "efd522bf",
   "metadata": {},
   "outputs": [
    {
     "data": {
      "text/plain": [
       "2"
      ]
     },
     "execution_count": 27,
     "metadata": {},
     "output_type": "execute_result"
    }
   ],
   "source": [
    "pred = model.predict(a)\n",
    "label = np.argmax(pred)\n",
    "label\n",
    "# model.predict_classes(a)"
   ]
  },
  {
   "cell_type": "code",
   "execution_count": 29,
   "id": "9f752d7c",
   "metadata": {},
   "outputs": [
    {
     "data": {
      "text/plain": [
       "{'daisy': 0, 'dandelion': 1, 'rose': 2, 'sunflower': 3, 'tulip': 4}"
      ]
     },
     "execution_count": 29,
     "metadata": {},
     "output_type": "execute_result"
    }
   ],
   "source": [
    "train_generator.class_indices"
   ]
  },
  {
   "cell_type": "code",
   "execution_count": null,
   "id": "03f20b7a",
   "metadata": {},
   "outputs": [],
   "source": []
  }
 ],
 "metadata": {
  "kernelspec": {
   "display_name": "Python 3",
   "language": "python",
   "name": "python3"
  },
  "language_info": {
   "codemirror_mode": {
    "name": "ipython",
    "version": 3
   },
   "file_extension": ".py",
   "mimetype": "text/x-python",
   "name": "python",
   "nbconvert_exporter": "python",
   "pygments_lexer": "ipython3",
   "version": "3.8.8"
  }
 },
 "nbformat": 4,
 "nbformat_minor": 5
}
